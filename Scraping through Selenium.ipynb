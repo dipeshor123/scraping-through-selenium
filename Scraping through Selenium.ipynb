{
 "cells": [
  {
   "cell_type": "markdown",
   "id": "f0b26160-fc04-4d17-98f0-7b2d3d4a9778",
   "metadata": {},
   "source": [
    "## Importing Libraries"
   ]
  },
  {
   "cell_type": "code",
   "execution_count": 1,
   "id": "4a4aaa32-6daf-45b6-a4b2-0a8c31a93c21",
   "metadata": {},
   "outputs": [],
   "source": [
    "from selenium import webdriver\n",
    "from selenium.webdriver.common.by import By\n",
    "import pandas as pd\n",
    "import warnings\n",
    "warnings.filterwarnings('ignore')"
   ]
  },
  {
   "cell_type": "code",
   "execution_count": 2,
   "id": "e334e241-feba-4e68-808d-ba58c0d9f55a",
   "metadata": {},
   "outputs": [],
   "source": [
    "# Set the path to the Chrome driver executable\n",
    "path = r'C:\\Users\\Dipes\\Downloads\\Resit Smart Data Discovery\\FYP resit\\chromedriver-win64\\chromedriver-win64\\chromedriver.exe'\n",
    "\n",
    "# Create a new instance of the Chrome driver\n",
    "driver = webdriver.Chrome(path)"
   ]
  },
  {
   "cell_type": "code",
   "execution_count": 3,
   "id": "a8b78d0b-b0f7-497d-81c3-3d9ca670b8fb",
   "metadata": {},
   "outputs": [],
   "source": [
    "# Navigate to the webpage\n",
    "web = 'https://www.adamchoi.co.uk/overs/detailed'\n",
    "driver.get(web)"
   ]
  },
  {
   "cell_type": "code",
   "execution_count": 4,
   "id": "d1dd7a0b-c8a1-4e2e-877c-9fcd14133046",
   "metadata": {},
   "outputs": [],
   "source": [
    "# Find an element by XPath\n",
    "element = driver.find_element(By.XPATH, '//label[@analytics-event=\"All matches\"]')"
   ]
  },
  {
   "cell_type": "code",
   "execution_count": 5,
   "id": "d1fe775c-d01d-46f8-837d-6328919c0616",
   "metadata": {},
   "outputs": [],
   "source": [
    "# Perform actions on the element (e.g., click)\n",
    "element.click()"
   ]
  },
  {
   "cell_type": "code",
   "execution_count": 6,
   "id": "4fe2a37c-235e-4e4c-a42b-63635722bdac",
   "metadata": {},
   "outputs": [],
   "source": [
    "# Find all elements with tag name 'tr'\n",
    "matches = driver.find_elements(By.TAG_NAME, 'tr')"
   ]
  },
  {
   "cell_type": "code",
   "execution_count": 7,
   "id": "ec5f54fc-418d-4109-bca1-36fed07da498",
   "metadata": {},
   "outputs": [],
   "source": [
    "# Iterate through the 'tr' elements and print their text\n",
    "Date=[]\n",
    "Hteam=[]\n",
    "score=[]\n",
    "Ateam=[]\n",
    "for match in matches:\n",
    "    Date.append(match.find_element(By.XPATH,'./td[1]').text)\n",
    "    Hteam.append(match.find_element(By.XPATH,'./td[2]').text)\n",
    "    score.append(match.find_element(By.XPATH,'./td[3]').text)\n",
    "    Ateam.append(match.find_element(By.XPATH,'./td[4]').text)"
   ]
  },
  {
   "cell_type": "code",
   "execution_count": 8,
   "id": "13c55134-06bd-4c0b-8ba2-3fba4a587a78",
   "metadata": {},
   "outputs": [],
   "source": [
    "T=pd.DataFrame({'Date':Date,'Home team':Hteam,'Score':score,'Away Team':Ateam})"
   ]
  },
  {
   "cell_type": "code",
   "execution_count": 9,
   "id": "27069154-cb46-4fef-978d-6d1f5b022328",
   "metadata": {},
   "outputs": [
    {
     "data": {
      "text/html": [
       "<div>\n",
       "<style scoped>\n",
       "    .dataframe tbody tr th:only-of-type {\n",
       "        vertical-align: middle;\n",
       "    }\n",
       "\n",
       "    .dataframe tbody tr th {\n",
       "        vertical-align: top;\n",
       "    }\n",
       "\n",
       "    .dataframe thead th {\n",
       "        text-align: right;\n",
       "    }\n",
       "</style>\n",
       "<table border=\"1\" class=\"dataframe\">\n",
       "  <thead>\n",
       "    <tr style=\"text-align: right;\">\n",
       "      <th></th>\n",
       "      <th>Date</th>\n",
       "      <th>Home team</th>\n",
       "      <th>Score</th>\n",
       "      <th>Away Team</th>\n",
       "    </tr>\n",
       "  </thead>\n",
       "  <tbody>\n",
       "    <tr>\n",
       "      <th>0</th>\n",
       "      <td>12-08-2023</td>\n",
       "      <td>Arsenal</td>\n",
       "      <td>2 - 1</td>\n",
       "      <td>Nott'm Forest</td>\n",
       "    </tr>\n",
       "    <tr>\n",
       "      <th>1</th>\n",
       "      <td>21-08-2023</td>\n",
       "      <td>Crystal Palace</td>\n",
       "      <td>0 - 1</td>\n",
       "      <td>Arsenal</td>\n",
       "    </tr>\n",
       "    <tr>\n",
       "      <th>2</th>\n",
       "      <td>26-08-2023</td>\n",
       "      <td>Arsenal</td>\n",
       "      <td>2 - 2</td>\n",
       "      <td>Fulham</td>\n",
       "    </tr>\n",
       "    <tr>\n",
       "      <th>3</th>\n",
       "      <td>03-09-2023</td>\n",
       "      <td>Arsenal</td>\n",
       "      <td>3 - 1</td>\n",
       "      <td>Man United</td>\n",
       "    </tr>\n",
       "    <tr>\n",
       "      <th>4</th>\n",
       "      <td>17-09-2023</td>\n",
       "      <td>Everton</td>\n",
       "      <td>? - ?</td>\n",
       "      <td>Arsenal</td>\n",
       "    </tr>\n",
       "    <tr>\n",
       "      <th>...</th>\n",
       "      <td>...</td>\n",
       "      <td>...</td>\n",
       "      <td>...</td>\n",
       "      <td>...</td>\n",
       "    </tr>\n",
       "    <tr>\n",
       "      <th>93</th>\n",
       "      <td>14-08-2023</td>\n",
       "      <td>Man United</td>\n",
       "      <td>1 - 0</td>\n",
       "      <td>Wolves</td>\n",
       "    </tr>\n",
       "    <tr>\n",
       "      <th>94</th>\n",
       "      <td>19-08-2023</td>\n",
       "      <td>Wolves</td>\n",
       "      <td>1 - 4</td>\n",
       "      <td>Brighton</td>\n",
       "    </tr>\n",
       "    <tr>\n",
       "      <th>95</th>\n",
       "      <td>26-08-2023</td>\n",
       "      <td>Everton</td>\n",
       "      <td>0 - 1</td>\n",
       "      <td>Wolves</td>\n",
       "    </tr>\n",
       "    <tr>\n",
       "      <th>96</th>\n",
       "      <td>03-09-2023</td>\n",
       "      <td>Crystal Palace</td>\n",
       "      <td>3 - 2</td>\n",
       "      <td>Wolves</td>\n",
       "    </tr>\n",
       "    <tr>\n",
       "      <th>97</th>\n",
       "      <td>16-09-2023</td>\n",
       "      <td>Wolves</td>\n",
       "      <td>? - ?</td>\n",
       "      <td>Liverpool</td>\n",
       "    </tr>\n",
       "  </tbody>\n",
       "</table>\n",
       "<p>98 rows × 4 columns</p>\n",
       "</div>"
      ],
      "text/plain": [
       "          Date       Home team  Score      Away Team\n",
       "0   12-08-2023         Arsenal  2 - 1  Nott'm Forest\n",
       "1   21-08-2023  Crystal Palace  0 - 1        Arsenal\n",
       "2   26-08-2023         Arsenal  2 - 2         Fulham\n",
       "3   03-09-2023         Arsenal  3 - 1     Man United\n",
       "4   17-09-2023         Everton  ? - ?        Arsenal\n",
       "..         ...             ...    ...            ...\n",
       "93  14-08-2023      Man United  1 - 0         Wolves\n",
       "94  19-08-2023          Wolves  1 - 4       Brighton\n",
       "95  26-08-2023         Everton  0 - 1         Wolves\n",
       "96  03-09-2023  Crystal Palace  3 - 2         Wolves\n",
       "97  16-09-2023          Wolves  ? - ?      Liverpool\n",
       "\n",
       "[98 rows x 4 columns]"
      ]
     },
     "execution_count": 9,
     "metadata": {},
     "output_type": "execute_result"
    }
   ],
   "source": [
    "T"
   ]
  },
  {
   "cell_type": "code",
   "execution_count": 10,
   "id": "ea8169e9-8735-4f92-a745-06b3b85298fd",
   "metadata": {},
   "outputs": [],
   "source": [
    "# Close the browser when done\n",
    "driver.quit()"
   ]
  },
  {
   "cell_type": "code",
   "execution_count": null,
   "id": "b62c4945-0888-4bb3-a362-c17d0bb9ec72",
   "metadata": {},
   "outputs": [],
   "source": []
  }
 ],
 "metadata": {
  "kernelspec": {
   "display_name": "Python 3 (ipykernel)",
   "language": "python",
   "name": "python3"
  },
  "language_info": {
   "codemirror_mode": {
    "name": "ipython",
    "version": 3
   },
   "file_extension": ".py",
   "mimetype": "text/x-python",
   "name": "python",
   "nbconvert_exporter": "python",
   "pygments_lexer": "ipython3",
   "version": "3.8.16"
  }
 },
 "nbformat": 4,
 "nbformat_minor": 5
}
